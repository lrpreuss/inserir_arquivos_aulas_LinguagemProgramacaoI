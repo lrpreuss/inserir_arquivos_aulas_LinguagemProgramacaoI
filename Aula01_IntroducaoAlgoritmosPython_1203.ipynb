{
  "nbformat": 4,
  "nbformat_minor": 0,
  "metadata": {
    "colab": {
      "provenance": [],
      "toc_visible": true,
      "authorship_tag": "ABX9TyPHOAERlfrfUNndUPsrL6we",
      "include_colab_link": true
    },
    "kernelspec": {
      "name": "python3",
      "display_name": "Python 3"
    },
    "language_info": {
      "name": "python"
    }
  },
  "cells": [
    {
      "cell_type": "markdown",
      "metadata": {
        "id": "view-in-github",
        "colab_type": "text"
      },
      "source": [
        "<a href=\"https://colab.research.google.com/github/lrpreuss/inserir_arquivos_aulas_LinguagemProgramacaoI/blob/main/Aula01_IntroducaoAlgoritmosPython_1203.ipynb\" target=\"_parent\"><img src=\"https://colab.research.google.com/assets/colab-badge.svg\" alt=\"Open In Colab\"/></a>"
      ]
    },
    {
      "cell_type": "markdown",
      "source": [
        "# **Primeiros passos com Python**\n",
        "\n",
        "Vamos realizar os primeiros códigos com a linguagem Python para observar o funcionamento das etapas:\n",
        "\n",
        "1. Entrada\n",
        "2. Processamento\n",
        "3. Saída\n",
        "4. Comentários"
      ],
      "metadata": {
        "id": "NklAnRt3tiHe"
      }
    },
    {
      "cell_type": "markdown",
      "source": [
        "## Exercício 1 - Um Bom Programa Inicial\n",
        "\n",
        "O primeiro passo para usar linhas de cógigo em alguma linguagem (saída de dados)."
      ],
      "metadata": {
        "id": "z-az198Fu1I7"
      }
    },
    {
      "cell_type": "code",
      "execution_count": null,
      "metadata": {
        "colab": {
          "base_uri": "https://localhost:8080/"
        },
        "id": "I68TVqa-tadg",
        "outputId": "a4c9710a-ff72-4e43-92af-db59cc9436f7"
      },
      "outputs": [
        {
          "output_type": "stream",
          "name": "stdout",
          "text": [
            "Hello World!\n",
            "Hello Again.\n",
            "I like typing this.\n",
            "Yay! Printing.\n",
            "I'd much rather you not.\n",
            "I said do not touch this\n"
          ]
        }
      ],
      "source": [
        "print(\"Hello World!\")\n",
        "print(\"Hello Again.\")\n",
        "\n",
        "print(\"I like typing this.\")\n",
        "print(\"Yay! Printing.\")\n",
        "\n",
        "print(\"I'd much rather you not.\")\n",
        "print(\"I said do not touch this\")"
      ]
    },
    {
      "cell_type": "markdown",
      "source": [
        "## Exercício 2 - Comentários e Cerquilhas\n",
        "\n",
        "Compreender o uso de comentários para minhas linhas de  códigos."
      ],
      "metadata": {
        "id": "jihoFr3wu_CI"
      }
    },
    {
      "cell_type": "code",
      "source": [
        "# Um comentário, assim você pode ler seu programa mais tarde.\n",
        "# Qualquer coisa depois de # é ignorada pelo Python.\n",
        "\n",
        "print(\"I could have code like this.\") # e o comentário dpeois ignorado\n",
        "\n",
        "# Você também pode usar um comentário para desabilitar um código:\n",
        "#print(\"This won't run.\")\n",
        "\n",
        "print('This will run')"
      ],
      "metadata": {
        "colab": {
          "base_uri": "https://localhost:8080/"
        },
        "id": "WPB7sMjU5_n7",
        "outputId": "2f2d8734-81a5-4feb-b3e4-f6937f31dd67"
      },
      "execution_count": null,
      "outputs": [
        {
          "output_type": "stream",
          "name": "stdout",
          "text": [
            "I could have code like this.\n",
            "This will run\n"
          ]
        }
      ]
    },
    {
      "cell_type": "markdown",
      "source": [
        "## Exercício 3 - Números e Matemática\n",
        "\n",
        "Primeiras operações matemáticas, dentro da instrução de saída de dados:"
      ],
      "metadata": {
        "id": "kBLhqk7h8YjH"
      }
    },
    {
      "cell_type": "code",
      "source": [
        "# inicia com um texto sobre o que será feito no resto do programa\n",
        "print(\"I will now count my chickens:\")\n",
        "# irá concatenar o texto entre aspas com o resultado das operações após as vírgulas\n",
        "print(\"Hens\", 25 + 30 / 6)\n",
        "print(\"Roosters\", 100 - 25 * 3 % 4)\n",
        "#inicia com um texto sobre o que será feito no resto do programa\n",
        "print(\"Now I will count the eggs:\")\n",
        "#irá realizr uma operação matemática\n",
        "print(3 + 2 + 1 - 5 + 4 % 2 - 1 / 4 + 6)\n",
        "#inicia com um texto sobre o que será feito no resto do programa\n",
        "print(\"Is it true that 3 + 2 < 5 - 7?\")\n",
        "#realizar uma operação relacionando em que o resultado é booleano\n",
        "print(\"3 + 2 < 5 - 7\")\n",
        "#inicia com um texto sobre o que será feito no resto do programa\n",
        "print(\"What is 3 + 2:\", 3 + 2)\n",
        "print(\"What is 5 - 7?\", 5 - 7)\n",
        "#inicia com um texto sobre o que será feito no resto do programa\n",
        "print(\"Oh, that's why it's False.\")\n",
        "#inicia com um texto sobre o que será feito no resto do programa\n",
        "print(\"How about some more.\")\n",
        "#texto com operações relacionais\n",
        "print(\"Is it greater?\", 5 > -2)\n",
        "print(\"Is it grater or equal?\", 5 >= -2)\n",
        "print(\"Is it less or equal?\", 5 <= -2)"
      ],
      "metadata": {
        "colab": {
          "base_uri": "https://localhost:8080/"
        },
        "id": "du9wkUB48iME",
        "outputId": "9fd21e9d-5529-4700-f4e7-79efe5ebb2b9"
      },
      "execution_count": null,
      "outputs": [
        {
          "output_type": "stream",
          "name": "stdout",
          "text": [
            "I will now count my chickens:\n",
            "Hens 30.0\n",
            "Roosters 97\n",
            "Now I will count the eggs:\n",
            "6.75\n",
            "Is it true that 3 + 2 < 5 - 7?\n",
            "3 + 2 < 5 - 7\n",
            "What is 3 + 2: 5\n",
            "What is 5 - 7? -2\n",
            "Oh, that's why it's False.\n",
            "How about some more.\n",
            "Is it greater? True\n",
            "Is it grater or equal? True\n",
            "Is it less or equal? False\n"
          ]
        }
      ]
    },
    {
      "cell_type": "markdown",
      "source": [
        "## Exercício 4 - Variáveis e nomes\n",
        "\n",
        "Como declarar variáveis e seus rótulos"
      ],
      "metadata": {
        "id": "VcnH_XV_As5f"
      }
    },
    {
      "cell_type": "code",
      "source": [
        "cars = 100 #atribuindo um número inteiro\n",
        "spaceInACar = 4.0 #atribuindo um número real\n",
        "drivers = 30 #atribuindo um número inteiro\n",
        "passengers = 90 #atribuindo um número inteiro\n",
        "carsNotDriven = cars - drivers #operação aritmética entre inteiro e inteiro\n",
        "carsDriven = drivers #atribuição de valor entre variáveis sem operação\n",
        "carpoolCapacity = carsDriven * spaceInACar #atribuindo o restultado de uma operação aritmética entre inteiro e real\n",
        "averagePassengersPerCar = passengers / carsDriven # atribuindo o resultado de uma operação aritmética entre inteiro e inteiro\n",
        "\n",
        "print(\"There are \", cars, \" cars availabe.\")\n",
        "print(\"There are only \", drivers, \" drivers available.\")\n",
        "print(\"There will be \", carsNotDriven, \" empty cars today.\")\n",
        "print(\"We can transport \", carpoolCapacity, \" people today.\")\n",
        "print(\"We have \", passengers, \" to carpool today.\")\n",
        "print(\"We need to put about\", averagePassengersPerCar, \" in each car.\")\n",
        "print(10/5)"
      ],
      "metadata": {
        "colab": {
          "base_uri": "https://localhost:8080/"
        },
        "id": "NDP307QwAzsK",
        "outputId": "b8f812ab-8aa9-4195-d1f9-82c362101d03"
      },
      "execution_count": null,
      "outputs": [
        {
          "output_type": "stream",
          "name": "stdout",
          "text": [
            "There are  100  cars availabe.\n",
            "There are only  30  drivers available.\n",
            "There will be  70  empty cars today.\n",
            "We can transport  120.0  people today.\n",
            "We have  90  to carpool today.\n",
            "We need to put about 3.0  in each car.\n",
            "2.0\n"
          ]
        }
      ]
    },
    {
      "cell_type": "markdown",
      "source": [
        "# **Caderno**\n",
        "Observações de aula:\n",
        "\n",
        "* No Python, tudo são objetos. Pensando no processamento de máquina, não é uma boa escolha.\n",
        "\n",
        "* Ao dar entrada em informações, o Pyton reconhece automaticamente o tipo das variáveis/ informações. Outras linguagens podem precisr expecificar com o int, float ou quaisquer outros tipos."
      ],
      "metadata": {
        "id": "Ti6rEWo280ZW"
      }
    },
    {
      "cell_type": "code",
      "source": [],
      "metadata": {
        "id": "ekmcU2nHBGpV"
      },
      "execution_count": null,
      "outputs": []
    }
  ]
}