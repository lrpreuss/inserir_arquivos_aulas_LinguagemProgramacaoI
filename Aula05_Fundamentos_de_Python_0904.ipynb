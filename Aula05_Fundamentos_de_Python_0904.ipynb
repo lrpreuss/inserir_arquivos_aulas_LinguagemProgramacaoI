{
  "nbformat": 4,
  "nbformat_minor": 0,
  "metadata": {
    "colab": {
      "provenance": [],
      "mount_file_id": "1iWO9v13bDh9FiBmDH0p37wtWbmGnX2Ij",
      "authorship_tag": "ABX9TyM0LTzmxp1GVDbaZhxWFqq/",
      "include_colab_link": true
    },
    "kernelspec": {
      "name": "python3",
      "display_name": "Python 3"
    },
    "language_info": {
      "name": "python"
    }
  },
  "cells": [
    {
      "cell_type": "markdown",
      "metadata": {
        "id": "view-in-github",
        "colab_type": "text"
      },
      "source": [
        "<a href=\"https://colab.research.google.com/github/lrpreuss/inserir_arquivos_aulas_LinguagemProgramacaoI/blob/main/Aula05_Fundamentos_de_Python_0904.ipynb\" target=\"_parent\"><img src=\"https://colab.research.google.com/assets/colab-badge.svg\" alt=\"Open In Colab\"/></a>"
      ]
    },
    {
      "cell_type": "markdown",
      "source": [
        "# Conteúdo do dia"
      ],
      "metadata": {
        "id": "ldxqhxdzekC2"
      }
    },
    {
      "cell_type": "markdown",
      "source": [
        "##Caderno\n",
        "\n",
        "Manipulação de arquivos ~ via input (entrada de dados) = via usuário, linhas de comando, arquivos. Hoje: como processar arquivos .txt.\n",
        "\n",
        "Com Python, é importante saber como o sistema das informações é organizado.\n",
        "* Referência do arquivo. A ideia é basicamente saber o caminho do arquivo. Existe a referência **absoluta** e a **relativa**. Por vezes, a absoluta (caminho todo) pode ser 'comprida', mas você não terá problemas com o caminho. A outra opção é a referência relativa, que vai from arquivo python até o arquivo (como quando o arquivo a ser consultado está salva mesma pasta do projeto). Ao abrirmos arquivos em projetos python, é necessário **referenciar** esses arquivos.\n",
        "\n",
        "É bom que o arquivo sempre esteja **dentro de uma variável** que facilita a manipulação dos dados. Esse processo de manipulação sempre começa com a criação de um OBJETO DE ARQUIVO (como se fosse uma 'cópia' que só o script usa para trabalhar, sem alterar o arquivo original.)\n",
        "\n",
        "* Ciclo de vida de um arquivo: abertura, manipulação (leitura/ gravação) e fechamento\n",
        "```open('caminho do arquivo', modo que será aberto (leitura/ escrita/ etc), codificação)```\n",
        "Por exemplo: ```arquivo_teste = open('teste.txt'). ```\n",
        "Caso o arquivo não exista, vai dar erro *not found*.\n",
        "\n",
        "\n",
        "* Modos possíveis: r = leitura // w = escrita // a = adição ao final do texto // b = arquivo binário // t = texto (a codificação só é aplicada aos arquivos de texto, pra ele rodar para linguagem natural do jeito certo. Por padrão, o python reconhece tudo como arquivo de texto na codificação utf-8.)\n",
        "\n",
        "\n",
        "\n",
        "[traceback: a sintaxe está certa, mas existe outro erro no processo - tipo quando um arquvo não existe.]\n",
        "\n",
        "**Métodos**: funções aplicadas a determinados tipos de objeto. Exemplo:\n",
        "Texto.read() = objeto arquivo\n",
        "format() = objetos string.\n",
        "Há funções só para listas também, entre outros.\n",
        ".read() = leitura total\n",
        ".readline = lê uma linha\n",
        ".seek(posição) = posição desejada para o cursor\n",
        ".close() = fecha o arquivo\n",
        ".write() = escreve no arquivo\n"
      ],
      "metadata": {
        "id": "1M8YAC5L_1n9"
      }
    },
    {
      "cell_type": "markdown",
      "source": [
        "## EXEMPLOS"
      ],
      "metadata": {
        "id": "U0u1mw0UepVO"
      }
    },
    {
      "cell_type": "code",
      "source": [
        "#exemplo:\n",
        "\n",
        "variavel = 'caminho do arquivo'\n",
        "texto = open(variavel, 'r', encoding='utf-8')\n",
        "#leitura(read)\n",
        "palavras = texto.read()\n",
        "texto.close()"
      ],
      "metadata": {
        "id": "t86LRWopsRQG"
      },
      "execution_count": null,
      "outputs": []
    },
    {
      "cell_type": "code",
      "execution_count": null,
      "metadata": {
        "id": "QrKyJLzaeJNv"
      },
      "outputs": [],
      "source": [
        "## criação da função: abertura, manipulação e fechamento\n",
        "\n",
        "#Opção1\n",
        "def leituraArquivo(nomeDoArquivo):\n",
        "  \"\"\"descrição do que a função faz logo na primeira linha\n",
        "  várias linhas de comentário\"\"\"\n",
        "\n",
        "  arqEntrada = open(nomeDoArquivo, 'r')\n",
        "  conteudo = arqEntrada.read()\n",
        "  arqEntrada.close()\n",
        "\n",
        "  return conteudo\n",
        "\n",
        "#Opção2\n",
        "def leituraArquivo(nomeDoArquivo):\n",
        "  \"\"\"descrição do que a função faz logo na primeira linha\n",
        "  várias linhas de comentário\"\"\"\n",
        "\n",
        "  arqEntrada = open(nomeDoArquivo, 'r')\n",
        "  conteudo = arqEntrada.read()\n",
        "  arqEntrada.close()\n",
        "\n",
        "  return len(conteudo) #informa o tamanho do arquivo\n",
        "\n",
        "#Opção3\n",
        "def leituraArquivo(nomeDoArquivo):\n",
        "  \"\"\"descrição do que a função faz logo na primeira linha\n",
        "  várias linhas de comentário\"\"\"\n",
        "\n",
        "  arqEntrada = open(nomeDoArquivo, 'r')\n",
        "  conteudo = arqEntrada.read()\n",
        "  ListaPalavras = conteudo.split()  #quando o texto é muito grande, não é recomendado trabalhar como um bloco só - então transformamos em uma lista de palavras.\n",
        "  #Isso é interessante quando se precisa igorar certas palavras também.\n",
        "  arqEntrada.close()\n",
        "\n",
        "  return ListaPalavras"
      ]
    },
    {
      "cell_type": "markdown",
      "source": [
        "## EXERCÍCIO 23 - Lendo arquivos"
      ],
      "metadata": {
        "id": "JodDqyxGfhC-"
      }
    },
    {
      "cell_type": "code",
      "execution_count": 1,
      "metadata": {
        "id": "9RlSBSHNfhC-",
        "colab": {
          "base_uri": "https://localhost:8080/",
          "height": 211
        },
        "outputId": "e6a86374-9f8a-4d7d-9573-7c26ed288635"
      },
      "outputs": [
        {
          "output_type": "error",
          "ename": "ValueError",
          "evalue": "too many values to unpack (expected 2)",
          "traceback": [
            "\u001b[0;31m---------------------------------------------------------------------------\u001b[0m",
            "\u001b[0;31mValueError\u001b[0m                                Traceback (most recent call last)",
            "\u001b[0;32m<ipython-input-1-25cb796d1476>\u001b[0m in \u001b[0;36m<cell line: 0>\u001b[0;34m()\u001b[0m\n\u001b[1;32m      1\u001b[0m \u001b[0;32mfrom\u001b[0m \u001b[0msys\u001b[0m \u001b[0;32mimport\u001b[0m \u001b[0margv\u001b[0m \u001b[0;31m#do sistema, pegou a biblioteca argv\u001b[0m\u001b[0;34m\u001b[0m\u001b[0;34m\u001b[0m\u001b[0m\n\u001b[1;32m      2\u001b[0m \u001b[0;34m\u001b[0m\u001b[0m\n\u001b[0;32m----> 3\u001b[0;31m \u001b[0mscript\u001b[0m\u001b[0;34m,\u001b[0m \u001b[0mfilename\u001b[0m \u001b[0;34m=\u001b[0m \u001b[0margv\u001b[0m \u001b[0;31m#o que vamos usar do argv\u001b[0m\u001b[0;34m\u001b[0m\u001b[0;34m\u001b[0m\u001b[0m\n\u001b[0m\u001b[1;32m      4\u001b[0m \u001b[0mtxt\u001b[0m \u001b[0;34m=\u001b[0m \u001b[0mopen\u001b[0m\u001b[0;34m(\u001b[0m\u001b[0mfilename\u001b[0m\u001b[0;34m)\u001b[0m \u001b[0;31m#quando chamar o txt, vai abrir conforme o nome dado\u001b[0m\u001b[0;34m\u001b[0m\u001b[0;34m\u001b[0m\u001b[0m\n\u001b[1;32m      5\u001b[0m \u001b[0;34m\u001b[0m\u001b[0m\n",
            "\u001b[0;31mValueError\u001b[0m: too many values to unpack (expected 2)"
          ]
        }
      ],
      "source": [
        "from sys import argv #do sistema, pegou a biblioteca argv\n",
        "\n",
        "script, filename = argv #o que vamos usar do argv\n",
        "txt = open(filename) #quando chamar o txt, vai abrir conforme o nome dado\n",
        "\n",
        "print(f\"Here's yout file {filename}:\") #imprime a frase + nome do arquivo\n",
        "print(txt.read()) #exibe o que tem no arquivo txt\n",
        "\n",
        "print(\"Type the filename again:\") #imprime a frase\n",
        "file_again = input(\"> \") #input para file_again\n",
        "\n",
        "txt_again = open(file_again) #vai abrir o que foi definido como txt_again\n",
        "\n",
        "print(txt_again.read()) #imprime o que leu de txt_again"
      ]
    },
    {
      "cell_type": "markdown",
      "source": [
        "### Novidades neste exercício\n",
        "\n",
        "* Testes para abrir arquivos .txt direto no código."
      ],
      "metadata": {
        "id": "Nk6s7aYMfhC-"
      }
    },
    {
      "cell_type": "markdown",
      "source": [
        "### Erros que cometi neste exercício\n",
        "\n",
        "\"script, filename = argv #o que vamos usar do argv\" -> ValueError: too many values to unpack (expected 2)"
      ],
      "metadata": {
        "id": "dtiCnyPrfhC_"
      }
    },
    {
      "cell_type": "markdown",
      "source": [
        "## EXERCÍCIO 24 - Lendo e gravando arquivos"
      ],
      "metadata": {
        "id": "7xqD9gRuf2xK"
      }
    },
    {
      "cell_type": "code",
      "execution_count": null,
      "metadata": {
        "id": "6URTm7Ybf2xL"
      },
      "outputs": [],
      "source": [
        "from sys import argv\n",
        "\n",
        "scipt, filename = argv\n",
        "\n",
        "print(f\"We're going to erase {filename}.\")\n",
        "print(\"If you don't want that, hit CTRL-C (^C).\")\n",
        "print(\"If you do want that, hit RETURN.\")\n",
        "\n",
        "input(\"?\")\n",
        "\n",
        "print(\"Opening the file...\")\n",
        "target = open(filename, 'w')\n",
        "\n",
        "print(\"Intruncating the file. Goodbye!\")\n",
        "target.truncate()\n",
        "\n",
        "print(\"Now I'm going to ask you for three lines.\")\n",
        "\n",
        "line1 = input(\"line 1: \")\n",
        "line2 = input(\"line 2: \")\n",
        "line3 = input(\"line 3: \")\n",
        "\n",
        "print(\"I'm going to write these to the file.\")\n",
        "\n",
        "target.write(line1)\n",
        "target.write(\"\\n\")\n",
        "target.write(line2)\n",
        "target.write(\"\\n\")\n",
        "target.write(line3)\n",
        "target.write(\"\\n\")\n",
        "\n",
        "print(\"And finally, we close it.\")\n",
        "target.close"
      ]
    },
    {
      "cell_type": "markdown",
      "source": [
        "### Novidades neste exercício\n",
        "\n",
        "* Escrever e gravar coisas em .txt direto no código."
      ],
      "metadata": {
        "id": "qdWJnCQ8f2xL"
      }
    },
    {
      "cell_type": "markdown",
      "source": [
        "### Erros que cometi neste exercício\n",
        "\n",
        "Não aprendi a fazer isso funcionar e já tô frustrada demais pra continuar. Outra hora tento de novo."
      ],
      "metadata": {
        "id": "ojHtAesIf2xM"
      }
    },
    {
      "cell_type": "markdown",
      "source": [
        "## EXERCÍCIO 25 - Mais Arquivos"
      ],
      "metadata": {
        "id": "zJvdBbOqf7cB"
      }
    },
    {
      "cell_type": "code",
      "execution_count": null,
      "metadata": {
        "id": "5bPHK2NDf7cC"
      },
      "outputs": [],
      "source": [
        "from sys import argv\n",
        "from os.path import exists\n",
        "\n",
        "script, from_file, to_fle = argv\n",
        "\n",
        "print(f\"Copying from {from_file} to {to_file}\")\n",
        "\n",
        "#poderíamos fazer esses dois com uma linha, como?\n",
        "in_file = open(from_file)\n",
        "indata = in_file.read()\n",
        "\n",
        "print(f\"The input file is {len(indata)} bytes long\")\n",
        "\n",
        "print(f\"Does the output file exist? {exists(to_file)}\")\n",
        "print(\"Ready, hit RETURN to contiue, CTRL - C to abort.\")\n",
        "input()\n",
        "\n",
        "out_file = opento_file, 'w')\n",
        "out_file.write(indata)\n",
        "\n",
        "print(\"Alright, all done.\")\n",
        "\n",
        "out_file.close()\n",
        "in_file.close()"
      ]
    },
    {
      "cell_type": "markdown",
      "source": [
        "### Novidades neste exercício"
      ],
      "metadata": {
        "id": "IFMKfCn2f7cC"
      }
    },
    {
      "cell_type": "markdown",
      "source": [
        "### Erros que cometi neste exercício"
      ],
      "metadata": {
        "id": "SC-ukvfff7cD"
      }
    },
    {
      "cell_type": "markdown",
      "source": [
        "## EXERCÍCIO 26 - Funções e arquivos"
      ],
      "metadata": {
        "id": "1Wt6dFqkgBQr"
      }
    },
    {
      "cell_type": "code",
      "execution_count": null,
      "metadata": {
        "id": "XVak6wXvgBQs"
      },
      "outputs": [],
      "source": [
        "from sys import argv\n",
        "\n",
        "script, input_file = argv\n",
        "\n",
        "def print_all(f):\n",
        "  print(f.read())\n",
        "\n",
        "def rewind(f):\n",
        "  f.seek(0)\n",
        "\n",
        "def print_a_line(line_count, f):\n",
        "  print(line_count, f.readline())\n",
        "\n",
        "current_file = open(input_file)\n",
        "\n",
        "print(\"First let's print the whole file:\\n\")\n",
        "\n",
        "print_all(current_file)\n",
        "\n",
        "print(\"Now let's rewind, kind of like a tape.\")\n",
        "\n",
        "rewind(current_file)\n",
        "\n",
        "print(\"Let's print three lines:\")\n",
        "\n",
        "current_line = 1\n",
        "print_a_line(current_line, current_file)\n",
        "\n",
        "current_line + 1\n",
        "print_a_line(current_line, current_file)\n",
        "\n",
        "current_line + 1\n",
        "print_a_line(current_line, current_file)"
      ]
    },
    {
      "cell_type": "markdown",
      "source": [
        "### Novidades neste exercício\n",
        "\n",
        "* Abre o arquivo direto no código e permite uma busca dentro dele."
      ],
      "metadata": {
        "id": "VXTBUIsUgBQs"
      }
    },
    {
      "cell_type": "markdown",
      "source": [
        "### Erros que cometi neste exercício"
      ],
      "metadata": {
        "id": "eHrsBzwzgBQt"
      }
    },
    {
      "cell_type": "markdown",
      "source": [
        "## EXERCÍCIO 27 - Mais prática"
      ],
      "metadata": {
        "id": "wMk_M_c6gJNv"
      }
    },
    {
      "cell_type": "code",
      "execution_count": 6,
      "metadata": {
        "id": "TedkKEmCgJNw",
        "colab": {
          "base_uri": "https://localhost:8080/"
        },
        "outputId": "f222301c-528a-4a3a-b73e-be8a97882ca2"
      },
      "outputs": [
        {
          "output_type": "stream",
          "name": "stdout",
          "text": [
            "Let's practice everything.\n",
            "You'd need to know 'bout escapes with \\ that do:\n",
            "\n",
            " newlines and \t tabs.\n",
            "---------------\n",
            "\n",
            "\tThe lovely world\n",
            "with logic so firmly planted\n",
            "cannot discern \n",
            " the needs of love\n",
            "nor comprehend passion from intuition\n",
            "and requires an explenation\n",
            "\n",
            "\twhere there is none.\n",
            "\n",
            "---------------\n",
            "This should be five: 5\n",
            "With a starting point of: 10000\n",
            "We'd have 5000000 beans, 5000.0 jars, and 50.0 crates.\n",
            "We can also do this way:\n",
            "We'd have 500000.0 beans, 500.0 jars, and 5.0 crates.\n"
          ]
        }
      ],
      "source": [
        "print(\"Let's practice everything.\")\n",
        "print('You\\'d need to know \\'bout escapes with \\\\ that do:')\n",
        "print('\\n newlines and \\t tabs.')\n",
        "\n",
        "poem = \"\"\"\n",
        "\\tThe lovely world\n",
        "with logic so firmly planted\n",
        "cannot discern \\n the needs of love\n",
        "nor comprehend passion from intuition\n",
        "and requires an explenation\n",
        "\\n\\twhere there is none.\n",
        "\"\"\"\n",
        "\n",
        "print(\"---------------\")\n",
        "print(poem)\n",
        "print(\"---------------\")\n",
        "\n",
        "five = 10 - 2 + 3 - 6\n",
        "print(f\"This should be five: {five}\")\n",
        "\n",
        "def secret_formula(started):\n",
        "  jelly_beans = started * 500\n",
        "  jars = jelly_beans / 1000\n",
        "  crates = jars / 100\n",
        "  return jelly_beans, jars, crates\n",
        "\n",
        "start_point = 10000\n",
        "jelly_beans, jars, crates = secret_formula(start_point) #não deveria ser jelly_beans? DEVERIA.\n",
        "\n",
        "#lembre-se de que essa é uma outra maneira de formatar uma string\n",
        "print(\"With a starting point of: {}\".format(start_point))\n",
        "#é comko usar a string f\"\"\n",
        "print(f\"We'd have {jelly_beans} beans, {jars} jars, and {crates} crates.\")\n",
        "\n",
        "start_point = start_point / 10\n",
        "\n",
        "print(\"We can also do this way:\")\n",
        "formula = secret_formula(start_point)\n",
        "# essa é uma maneira fácil de aplicar uma lista a uma string de formatação\n",
        "print(\"We'd have {} beans, {} jars, and {} crates.\".format(*formula))"
      ]
    },
    {
      "cell_type": "markdown",
      "source": [
        "### Novidades neste exercício\n",
        "\n",
        "* Relembra \\n e \\t\n",
        "* Mostra a alternativa '.format' para 'f'"
      ],
      "metadata": {
        "id": "1dHyZ6hdgJNw"
      }
    },
    {
      "cell_type": "markdown",
      "source": [
        "### Erros que cometi neste exercício\n",
        "\n",
        "* jelly_beans virou beans e deu erro algumas vezes.\n",
        "* o maior erro é a existência tornada inútil devido o acúmulo de capital por poucos às custas de muitos."
      ],
      "metadata": {
        "id": "5HMJRrYBgJNy"
      }
    },
    {
      "cell_type": "markdown",
      "source": [
        "## EXERCÍCIO 28 - Desvios e Funções"
      ],
      "metadata": {
        "id": "fF5y9oHPgMlO"
      }
    },
    {
      "cell_type": "code",
      "execution_count": 8,
      "metadata": {
        "id": "0ykmLKkqgMlO",
        "colab": {
          "base_uri": "https://localhost:8080/",
          "height": 610
        },
        "outputId": "3cf1a6a3-3cfe-4cfe-debe-8fe1f42811f9"
      },
      "outputs": [
        {
          "output_type": "stream",
          "name": "stdout",
          "text": [
            "Você está em uma sala escura.\n",
            "Há uma porta  à sua direita e à sua esquerda.\n",
            "Qual você pega?\n",
            "Opções: 'esquerda', 'direita'.\n",
            "> direita\n",
            "Aqui você vê o grande mal, Cthulhu.\n",
            "Ele, isso, seja lá o que for, olha para você e você enlouquece.\n",
            "O que você faz?\n",
            "Opções: 'foge', 'cabeça'.\n",
            "> foge\n",
            "Você está em uma sala escura.\n",
            "Há uma porta  à sua direita e à sua esquerda.\n",
            "Qual você pega?\n",
            "Opções: 'esquerda', 'direita'.\n",
            "> esquerda\n",
            "Há um urso aqui.\n",
            "O urso tem um monte de mel.\n",
            "O urso gordo está na frente de outra porta.\n",
            "O que você faz?\n",
            "Opções: 'pegar mel', 'provocar urso'.\n",
            "> provocar urso\n",
            "O urso se moveu da porta.\n",
            "Você pode 'abrir porta' agora.\n",
            "> abrir porta\n",
            "Esta sala está cheia de ouro. Quanto você pega?\n",
            "Digite um número.\n",
            "> 1\n",
            "Legal, você não é ganancioso, você venceu!\n"
          ]
        },
        {
          "output_type": "error",
          "ename": "SystemExit",
          "evalue": "0",
          "traceback": [
            "An exception has occurred, use %tb to see the full traceback.\n",
            "\u001b[0;31mSystemExit\u001b[0m\u001b[0;31m:\u001b[0m 0\n"
          ]
        },
        {
          "output_type": "stream",
          "name": "stderr",
          "text": [
            "/usr/local/lib/python3.11/dist-packages/IPython/core/interactiveshell.py:3561: UserWarning: To exit: use 'exit', 'quit', or Ctrl-D.\n",
            "  warn(\"To exit: use 'exit', 'quit', or Ctrl-D.\", stacklevel=1)\n"
          ]
        }
      ],
      "source": [
        "from sys import exit\n",
        "\n",
        "def sala_do_ouro():\n",
        "  print(\"Esta sala está cheia de ouro. Quanto você pega?\")\n",
        "  print(\"Digite um número.\")\n",
        "\n",
        "  escolha = input(\"> \")\n",
        "  if \"0\" in escolha or \"1\" in escolha:\n",
        "    quanto = int(escolha)\n",
        "  else:\n",
        "    morrer(\"Cara, aprenda a digitar um número.\")\n",
        "\n",
        "  if quanto < 50:\n",
        "    print(\"Legal, você não é ganancioso, você venceu!\")\n",
        "    exit(0)\n",
        "  else:\n",
        "    morrer(\"Seu ganancioso!\")\n",
        "\n",
        "\n",
        "def sala_do_urso():\n",
        "  print(\"Há um urso aqui.\")\n",
        "  print(\"O urso tem um monte de mel.\")\n",
        "  print(\"O urso gordo está na frente de outra porta.\")\n",
        "  print(\"O que você faz?\")\n",
        "  print(\"Opções: 'pegar mel', 'provocar urso'.\")\n",
        "  urso_movido = False\n",
        "\n",
        "  while True:\n",
        "    escolha = input(\"> \")\n",
        "\n",
        "    if escolha == \"pegar mel\":\n",
        "      morrer(\"O urso olha para você e arranca sua cara com uma patada.\")\n",
        "    elif escolha == \"provocar urso\" and not urso_movido:\n",
        "      print(\"O urso se moveu da porta.\")\n",
        "      print(\"Você pode 'abrir porta' agora.\")\n",
        "      urso_movido = True\n",
        "    elif escolha == \"provocar urso\" and urso_movido:\n",
        "      morrer(\"O urso fica puto e arranca sua perna.\")\n",
        "    elif escolha == \"abrir porta\" and urso_movido:\n",
        "      sala_do_ouro()\n",
        "    else:\n",
        "      print(\"Não entendi sua escolha. Tente novamente.\")\n",
        "\n",
        "\n",
        "def sala_de_cthulhu():\n",
        "  print(\"Aqui você vê o grande mal, Cthulhu.\")\n",
        "  print(\"Ele, isso, seja lá o que for, olha para você e você enlouquece.\")\n",
        "  print(\"O que você faz?\")\n",
        "  print(\"Opções: 'foge', 'cabeça'.\")\n",
        "\n",
        "  escolha = input(\"> \")\n",
        "\n",
        "  if \"foge\" in escolha:\n",
        "    comecar()\n",
        "  elif \"cabeça\" in escolha:\n",
        "    morrer(\"Bem, isso foi gostoso!\")\n",
        "  else:\n",
        "    sala_de_cthulhu()\n",
        "\n",
        "\n",
        "def morrer(porque): #esqueci o ':' na primeira rodada\n",
        "  print(porque, \"Bom trabalho!\")\n",
        "  return \"The game is over\"\n",
        "\n",
        "def comecar():\n",
        "  print(\"Você está em uma sala escura.\")\n",
        "  print(\"Há uma porta  à sua direita e à sua esquerda.\")\n",
        "  print(\"Qual você pega?\")\n",
        "  print(\"Opções: 'esquerda', 'direita'.\")\n",
        "\n",
        "  escolha = input(\"> \")\n",
        "\n",
        "  if escolha == \"esquerda\":\n",
        "    sala_do_urso()\n",
        "  elif escolha == \"direita\":\n",
        "    sala_de_cthulhu()\n",
        "  else:\n",
        "    morrer(\"Você tropeça pela sala até morrer de fome.\")\n",
        "\n",
        "\n",
        "comecar()"
      ]
    },
    {
      "cell_type": "markdown",
      "source": [
        "### Novidades neste exercício\n",
        "\n",
        "* Associação entre métodos, associações lógicas"
      ],
      "metadata": {
        "id": "vEFkqGHYgMlO"
      }
    },
    {
      "cell_type": "markdown",
      "source": [
        "### Erros que cometi neste exercício\n",
        "\n",
        "* digitação;\n",
        "* no final do código, ao responder '1':\n",
        "\n",
        "An exception has occurred, use %tb to see the full traceback.\n",
        "\n",
        "SystemExit: 0\n",
        "/usr/local/lib/python3.11/dist-packages/IPython/core/interactiveshell.py:3561: UserWarning: To exit: use 'exit', 'quit', or Ctrl-D.\n",
        "  warn(\"To exit: use 'exit', 'quit', or Ctrl-D.\", stacklevel=1)\n",
        "  \n",
        "   -> não faço a menor ideia do que seja, ainda bem que a média é 6 e eu posso perder esse pontinho."
      ],
      "metadata": {
        "id": "oOteX_ukgMlP"
      }
    }
  ]
}