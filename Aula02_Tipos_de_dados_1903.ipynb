{
  "nbformat": 4,
  "nbformat_minor": 0,
  "metadata": {
    "colab": {
      "provenance": [],
      "authorship_tag": "ABX9TyOmsn1zvSBQy2Z9YyC8ZSOH",
      "include_colab_link": true
    },
    "kernelspec": {
      "name": "python3",
      "display_name": "Python 3"
    },
    "language_info": {
      "name": "python"
    }
  },
  "cells": [
    {
      "cell_type": "markdown",
      "metadata": {
        "id": "view-in-github",
        "colab_type": "text"
      },
      "source": [
        "<a href=\"https://colab.research.google.com/github/lrpreuss/inserir_arquivos_aulas_LinguagemProgramacaoI/blob/main/Aula02_Tipos_de_dados_1903.ipynb\" target=\"_parent\"><img src=\"https://colab.research.google.com/assets/colab-badge.svg\" alt=\"Open In Colab\"/></a>"
      ]
    },
    {
      "cell_type": "markdown",
      "source": [
        "# Fundamentos da Linguagem Python\n",
        "\n",
        "* Saber um pouco mais sobre a linguagem Python e como configurá-la no seu computador.\n",
        "* Entender o que são expressões aritméticas, expressões lógicas e operadores;\n",
        "* Compreender o que são variáveis e como usá-las;\n",
        "* Saber o que são strings e como usá-las."
      ],
      "metadata": {
        "id": "ueodDzUI6SbL"
      }
    },
    {
      "cell_type": "markdown",
      "source": [
        "## EXERCÍCIO 5 - Mais Variáveis e Impressão\n",
        "\n",
        "Concatenação de variáveis mais texto, uma forma de usar a saída de dados como variáveis."
      ],
      "metadata": {
        "id": "vrN4V2hp7wDj"
      }
    },
    {
      "cell_type": "code",
      "execution_count": null,
      "metadata": {
        "id": "HTlHrbK0fKho",
        "colab": {
          "base_uri": "https://localhost:8080/"
        },
        "outputId": "e45862e6-e276-4b2b-ccf7-2339315f6db3"
      },
      "outputs": [
        {
          "output_type": "stream",
          "name": "stdout",
          "text": [
            "Let's talk about Zed A. Shaw.\n",
            "He's 74 inches tall.\n",
            "He's 180 punds heavy.\n",
            "Actually that's not too heavy.\n",
            "He's got Blue eyes and Brown hair.\n",
            "His teeth are usually White depending on the coffee.\n",
            "If I add 35, 74 and my 180 I get 289.\n"
          ]
        }
      ],
      "source": [
        "Name = 'Zed A. Shaw'\n",
        "Age = 35\n",
        "Height = 74 #polegadas\n",
        "Weight = 180 #libras\n",
        "Eyes = 'Blue'\n",
        "Teeth = 'White'\n",
        "Hair = 'Brown'\n",
        "\n",
        "print(f\"Let's talk about {Name}.\")\n",
        "print(f\"He's {Height} inches tall.\")\n",
        "print(f\"He's {Weight} punds heavy.\")\n",
        "print(f\"Actually that's not too heavy.\")\n",
        "print(f\"He's got {Eyes} eyes and {Hair} hair.\")\n",
        "print(f\"His teeth are usually {Teeth} depending on the coffee.\")\n",
        "\n",
        "\n",
        "total = Age + Height + Weight #cometi erro de digitação\n",
        "print(f\"If I add {Age}, {Height} and my {Weight} I get {total}.\") #SyntaxError: f-string: single '}' is not allowed -> Height} - digitação"
      ]
    },
    {
      "cell_type": "markdown",
      "source": [
        "## EXERCÍCIO 6 - Strings e Texto\n",
        "\n",
        "Algumas variáveis, um pouco complexas e um pouco de trabalho com Strings dentro de Strings."
      ],
      "metadata": {
        "id": "JxxfvQnN_g2K"
      }
    },
    {
      "cell_type": "code",
      "source": [
        "#atribuição de inteiro em variável\n",
        "type_of_people = 10 #Erro: digitei \"type_of_peolple\" e causou erro na linha 4\n",
        "#atribuição de string com variável embutida\n",
        "x = f\"There are {type_of_people} types of people.\" #Erro: NameError: name 'type_of_people' is not defined\n",
        "#atribuição de valor textual a uma variável\n",
        "binary = \"binary\"\n",
        "#atribuição de valor textual a uma variável\n",
        "do_not = \"don't\"\n",
        "#atribuição de string com variável embutida\n",
        "y = f\"Those who know {binary} and those who {do_not}.\"\n",
        "\n",
        "print(x) #imprime o valor da variável\n",
        "print(y) #imprime o valor da variável\n",
        "\n",
        "print(f\"I said: {x}\") #imprime um texto com a variável embutida\n",
        "print(f\"I also said: '{y}'\")\n",
        "\n",
        "hilarious = False #criação de variável com valor booleano\n",
        "joke_evaluation = \"Isn't that joke so funny?! {}\" #criação de variável com texto e espaço para embutir a variável, sem definí-la\n",
        "\n",
        "print(joke_evaluation.format(hilarious)) #outra forma de imprimir a variável textual com a variável embutida ->> NOVIDADE\n",
        "print(joke_evaluation, hilarious) #teste para ver o que acontece\n",
        "w = \"This is left side of...\" #criação de variável com valor textual\n",
        "e = \"a string with a right side.\" #criação de variável com valor textual\n",
        "\n",
        "print(w + e) #concatena os valores textuais armazenados nas variáveis"
      ],
      "metadata": {
        "colab": {
          "base_uri": "https://localhost:8080/"
        },
        "id": "eTAW3fQf_yVi",
        "outputId": "93350df3-50c7-4b7b-9e35-2b9f072aa48f"
      },
      "execution_count": null,
      "outputs": [
        {
          "output_type": "stream",
          "name": "stdout",
          "text": [
            "There are 10 types of people.\n",
            "Those who know binary and those who don't.\n",
            "I said: There are 10 types of people.\n",
            "I also said: 'Those who know binary and those who don't.'\n",
            "Isn't that joke so funny?! False\n",
            "Isn't that joke so funny?! {} False\n",
            "This is left side of...a string with a right side.\n"
          ]
        }
      ]
    },
    {
      "cell_type": "markdown",
      "source": [
        "## EXERCÍCIO 7 - Mais impressão\n",
        "\n",
        "Apenas para práticas a digitação e alguns conceitos sobre impressão de strings"
      ],
      "metadata": {
        "id": "HY51mWXxC63C"
      }
    },
    {
      "cell_type": "code",
      "source": [
        "print(\"Mary had a little lamb.\") #imprime um texto fixo\n",
        "print(\"Its fleece was white as {}.\".format('snow')) #imprime um texto com espaço para mudar algo\n",
        "print(\"And everywhere that Mary went.\")#imprime um texto fixo\n",
        "print(\".\" * 10) #what's that do? imprime o ponto 10 vezes -> NOVIDADE string + int\n",
        "\n",
        "end1 = \"C\" #armazena dados textuais em variáveis\n",
        "end2 = \"h\"\n",
        "end3 = \"e\"\n",
        "end4 = \"e\"\n",
        "end5 = \"s\"\n",
        "end6 = \"e\"\n",
        "end7 = \"B\"\n",
        "end8 = \"u\"\n",
        "end9 = \"r\"\n",
        "end10 = \"g\"\n",
        "end11 = \"e\"\n",
        "end12 = \"r\"\n",
        "\n",
        "#tentar remover a vírgula no fim para ver o que acontece.\n",
        "print(end1 + end2 + end3 + end4 + end5 + end6, end=' ') #ERRO: AttributeError: 'str' object has no attribute 'end6'-> corrigi o ponto e a vírgula\n",
        "#OUTRO ERRO na linha 20: SyntaxError: expression cannot contain assignment, perhaps you meant \"==\"?\n",
        "#CORREÇÃO: precisa ser VÍRGULA no final para funcionar\n",
        "print(end7 + end8 + end9 + end10 + end11 + end12) #imprimir sem quebra de linha"
      ],
      "metadata": {
        "colab": {
          "base_uri": "https://localhost:8080/"
        },
        "id": "Z5cg-SqzDCKR",
        "outputId": "63716651-f7fa-41b5-9bf0-bd0cd1657213"
      },
      "execution_count": null,
      "outputs": [
        {
          "output_type": "stream",
          "name": "stdout",
          "text": [
            "Mary had a little lamb.\n",
            "Its fleece was white as snow.\n",
            "And everywhere that Mary went.\n",
            "..........\n",
            "Cheese Burger\n"
          ]
        }
      ]
    },
    {
      "cell_type": "markdown",
      "source": [
        "##EXERCÍCIO 8 - Imprimindo, imprimindo\n",
        "\n",
        "Formatação de strings de forma mais complexa"
      ],
      "metadata": {
        "id": "pXROjrbtGZNK"
      }
    },
    {
      "cell_type": "code",
      "source": [
        "formatter = \"{} {} {} {}\"\n",
        "\n",
        "print(formatter.format(1, 2, 3, 4))\n",
        "print(formatter.format(\"one\", \"two\", \"three\", \"four\"))\n",
        "print(formatter.format(True, False, False, True))\n",
        "print(formatter.format(formatter, formatter, formatter, formatter))\n",
        "print(formatter.format(\n",
        "    \"Try you\",\n",
        "    \"Own Text here\",\n",
        "    \"Maybe a Poem\",\n",
        "    \"Or a song about fear\"\n",
        "))\n",
        "#o .format auxilia no modo como se misturam as variáveis umas dentro das outras"
      ],
      "metadata": {
        "colab": {
          "base_uri": "https://localhost:8080/"
        },
        "id": "kWooZGTzGh5J",
        "outputId": "3eda7149-828e-43ff-a446-8e1b683f45d4"
      },
      "execution_count": null,
      "outputs": [
        {
          "output_type": "stream",
          "name": "stdout",
          "text": [
            "1 2 3 4\n",
            "one two three four\n",
            "True False False True\n",
            "{} {} {} {} {} {} {} {} {} {} {} {} {} {} {} {}\n",
            "Try you Own Text here Maybe a Poem Or a song about fear\n"
          ]
        }
      ]
    },
    {
      "cell_type": "markdown",
      "source": [
        "## Caderno - 19/03\n",
        "\n",
        "**Parte 1 - tipos de dados no Python**\n",
        "* Cada linguagem tem suas características próprias de como os dados são armazenados. Em algumas linguagens, os dados ficam alocados diretamente na memória (convertidos para uma linguagem binária, e todo o processamento/ modificação é feito em binária). Quando é preciso imprimir os dados, a informação é novamente convertida em linguagem natural.\n",
        "É preciso saber qual espaço de memória vai ser usado na hora de fazer o programa.\n",
        "* No Python, as informações ficam em pequenos \"containers\", conhecidos como ***OBJETOS***. O Python é considerado uma linguagem orientada a objeto. Ele não faz essa conversão para binário, dividindo o espaço de memória que varia conforme sua necessidade.\n",
        "* Em Python, só o \"float\" tem limitação de tamanho em bytes. O tamanho acaba sendo limitado somente pela memória do computador. Ex: armazenar valor \"3\". Será inserido em um compartimento, e nele terá as informações de \"tipo\" (chamado CLASSE) e \"valores\" (o tipo define quais as operações podem ser feitas com o valor contido no objeto).\n",
        "* Os tipos podem ser: INT (inteiro), FLOAT (ponto flutuante - números reais), STRING (textos), LISTAS, TUPLAS e DICIONÁRIOS.Além disso, com as BIBLIOTECAS temos os dataframes (planilhas).\n",
        "  \n",
        "  * Tipos de dados:\n",
        "  Tipos numéricos: INTEIRO (int), REAIS (float).\n",
        "    * INT: limitado pela memória\n",
        "    * FLOAT: limitado a 64bits (se o resultado for muito grande, dá OverflowError)\n",
        "\n",
        "  * Tipos de operações:\n",
        "    * Soma (+), subtração(-), multiplicação(*), divisão(/), divisão inteira (//), resto(%), número negativo ( -(x))\n",
        "    * Potenciação (x**y)\n",
        "    * Valor absoluto (ignora se é negativo/ positivo) ( abs(x) )\n",
        "\n",
        "    O resultado das operações sempre será um valor do tipo:\n",
        "      * Inteiro [operação] inteiro = INTEIRO\n",
        "      * Inteiro [operação] float = FLOAT\n",
        "      * Float [operação] float = FLOAT\n",
        "  (Exceto divisões: int [operação] int = float, mesmo se o resultado for um número inteiro.)\n",
        "\n",
        "  * Tipos de TEXTO:\n",
        "     * STRING = todo conteúdo entre aspas simples ou duplas.\n",
        "  * Operações com Strings:\n",
        "    * (+) = concatenação do texto\n",
        "    * operações relacionais (<, >, ==, >=, <=, != - comparando textos)\n",
        "    * Multiplicação de string por int: \"texto\" * x\n",
        "    * Operação de inclusão: saber se um trecho ou letra está dentro de uma palavra (in) - [letra] in [palavra] (resposta  booleana)\n",
        "    * Comprimento da string: len\n",
        "\n",
        "**Nota: string é um VETOR. São posições, e cada posição está relacionada a uma letra.** Você pode encontrar uma determinada letra/ posição utilizando índices. O Índice é basicamente o que indica a posição no valor ou na string, comezando sempre do ZERO.\n",
        "Exemplo: A = BOM DIA\n",
        "A[1] = O\n",
        "Comprimento da string: len[A] = 7\n",
        "\n",
        "  * Tipo LISTA (conjunto de valores MUTÁVEIS / também chamado de vetores ou variáveis compostas do tipo heterogênea)\n",
        "    lista = [ ...]\n",
        "    lista = [1, 3, 7, \"abacate\"] - limitado à memória do computador\n",
        "Dataframe é uma espécie de lista dentro de lista (que acaba virando uma matriz.)\n",
        "  * Operações de listas = as mesmas das strings + funções tipo min(lista) (mínimo), max(lista) (maior valor dentro da lista), + muitas outras funções (encontradas com help(list) no IDLE).\n",
        "\n",
        "*Nota: médodo = função aplicada à lista* - nomeDaLista.nomeDoMetodo(parâmetro)\n",
        "\n",
        "*TUPLAS são semelhantes às listas, mas IMUTÁVEIS.*\n",
        "\n",
        "\n",
        "\n"
      ],
      "metadata": {
        "id": "bs0aCF7_fNgP"
      }
    }
  ]
}