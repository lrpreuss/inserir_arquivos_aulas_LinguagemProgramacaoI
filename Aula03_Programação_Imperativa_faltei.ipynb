{
  "nbformat": 4,
  "nbformat_minor": 0,
  "metadata": {
    "colab": {
      "provenance": [],
      "toc_visible": true,
      "authorship_tag": "ABX9TyPKtPpCWof0UEUZ6q8nJ7BY",
      "include_colab_link": true
    },
    "kernelspec": {
      "name": "python3",
      "display_name": "Python 3"
    },
    "language_info": {
      "name": "python"
    }
  },
  "cells": [
    {
      "cell_type": "markdown",
      "metadata": {
        "id": "view-in-github",
        "colab_type": "text"
      },
      "source": [
        "<a href=\"https://colab.research.google.com/github/lrpreuss/inserir_arquivos_aulas_LinguagemProgramacaoI/blob/main/Aula03_Programa%C3%A7%C3%A3o_Imperativa_faltei.ipynb\" target=\"_parent\"><img src=\"https://colab.research.google.com/assets/colab-badge.svg\" alt=\"Open In Colab\"/></a>"
      ]
    },
    {
      "cell_type": "markdown",
      "source": [
        "# **Fundamentos da Linguagem Python**\n",
        "\n",
        "* Saber um puco mais sobre a linguagem Python e como configurá-la no seu computador;\n",
        "* Entender o que são expressões aritméticas, expressões lógicas e operadores;\n",
        "* Compreender o que são variáveis e como usá-las;\n",
        "* Saber o que são strings e como usá-las."
      ],
      "metadata": {
        "id": "MINuYZTBvLZA"
      }
    },
    {
      "cell_type": "markdown",
      "source": [
        "## EXERCÍCIO 9 - Imprimindo, imprimindo, imprimindo"
      ],
      "metadata": {
        "id": "nDEMIQ3wyIHU"
      }
    },
    {
      "cell_type": "code",
      "execution_count": null,
      "metadata": {
        "colab": {
          "base_uri": "https://localhost:8080/"
        },
        "id": "RwJE-7fyu8MW",
        "outputId": "829d9511-a894-4157-d8a7-24d4fa6a22be"
      },
      "outputs": [
        {
          "output_type": "stream",
          "name": "stdout",
          "text": [
            "Here are the day:  Mon Tue Wed Thu Fri Sat Sun\n",
            "Here are the months:  Jan\n",
            "Fev\n",
            "Mar\n",
            "Apr\n",
            "May\n",
            "Jun\n",
            "Jul\n",
            "Ago\n",
            "Sep\n",
            "Out\n",
            "Nov\n",
            "Dez\n",
            "\n",
            "There's something going on here.\n",
            "With the three double-quotes.\n",
            "We'll be able to type as much as we like.\n",
            "Even 4 line if we want, or 5, or 6.\n",
            "\n"
          ]
        }
      ],
      "source": [
        "days = \"Mon Tue Wed Thu Fri Sat Sun\" #vai ler como uma string gigante tudo numa linha só\n",
        "months = \"Jan\\nFev\\nMar\\nApr\\nMay\\nJun\\nJul\\nAgo\\nSep\\nOut\\nNov\\nDez\" #cada \\n vai quebrar uma linha\n",
        "\n",
        "print(\"Here are the day: \", days) #vai imprimir a minhocona de dias\n",
        "print(\"Here are the months: \", months) #vai imprimir os meses um em cada linha\n",
        "\n",
        "print(\"\"\"\n",
        "There's something going on here.\n",
        "With the three double-quotes.\n",
        "We'll be able to type as much as we like.\n",
        "Even 4 line if we want, or 5, or 6.\n",
        "\"\"\") #imagino que as aspas triplas mantêm a quebra de linha como é escrita no código"
      ]
    },
    {
      "cell_type": "markdown",
      "source": [
        "### Novidades neste exercício\n",
        "\n",
        "1. Pular linhas dentro de uma variável\n",
        "\n",
        "` nomevariavel = \"texto\\ntexto\\ntexto`\n",
        "\n",
        "2. Impressão de várias linhas\n",
        "\n",
        "```\n",
        "\"\"\"\n",
        "linha 1 de texto\n",
        "linha 2 de texto...\n",
        "\"\"\"\n",
        "```\n",
        "\n"
      ],
      "metadata": {
        "id": "Bv2mEVBjyozE"
      }
    },
    {
      "cell_type": "markdown",
      "source": [
        "### Erros que eu cometi neste exercício\n",
        "\n",
        "1. escrevi \"months\" certo no atributo mas escrevi monts na hora de printar"
      ],
      "metadata": {
        "id": "77amvHDUysTc"
      }
    },
    {
      "cell_type": "markdown",
      "source": [],
      "metadata": {
        "id": "mFHigjfl1Ti3"
      }
    },
    {
      "cell_type": "markdown",
      "source": [
        "## EXERCÍCIO 10 - O que foi isso? *dúvida*"
      ],
      "metadata": {
        "id": "jgFWdaNK19Sc"
      }
    },
    {
      "cell_type": "code",
      "source": [
        "tabby_cat = \"\\tI'm tabbed in.\" #\\t é novidade, vamos ver o que ele faz...\n",
        "persian_cat = \"I'm split\\non a line.\" #podemos usar \\n em qualquer lugar da string, então\n",
        "backlash_cat = \"I'm \\ a \\ cat.\" # \\\\ também é novidade, vamos ver o que ele faz\n",
        "\n",
        "fat_cat = \"\"\"\n",
        "I'll do a list:\n",
        "\\t* Cat food \\t*Fishies\n",
        "\\t* Catnip\\n\\t* Grass\n",
        "\"\"\" #vai imprimir o bloco de texto. Vai ter a quebra de linha do \\n, mas ainda não sei qual é a do \\t.\n",
        "\n",
        "#mostrando tudo:\n",
        "print(tabby_cat)\n",
        "print(persian_cat)\n",
        "print(backlash_cat)\n",
        "print(fat_cat)\n",
        "\n",
        "#depois de rodar, entendi a tabulação do \\t e a necessidade\n",
        "#fiz testes com o uso da \\, nada fez sentido"
      ],
      "metadata": {
        "colab": {
          "base_uri": "https://localhost:8080/"
        },
        "id": "IFkhRb4H2JBE",
        "outputId": "94713ac4-ad89-4705-f6a4-27a41aaa37b7"
      },
      "execution_count": null,
      "outputs": [
        {
          "output_type": "stream",
          "name": "stdout",
          "text": [
            "\tI'm tabbed in.\n",
            "I'm split\n",
            "on a line.\n",
            "I'm \\\\\\ a \\ cat.\n",
            "\n",
            "I'll do a list:\n",
            "\t* Cat food \t*Fishies\n",
            "\t* Catnip\n",
            "\t* Grass\n",
            "\n"
          ]
        }
      ]
    },
    {
      "cell_type": "markdown",
      "source": [
        "### Novidades neste exercício\n",
        "\n",
        "Tabulação - \\t\n",
        "\n",
        "``` \\ttexto tabulado ```\n",
        "\n",
        "A barra \" \\ \" se comporta diferente no código. Escrever uma barra na string imprime uma barra, escrever duas barras imprime uma barra. Escrever 3 barras imprime 2 barras, escrever 4 barras imprime 3 barras. Oi?\n",
        "\n",
        "``` \"um \\\\ dois \\\\ três\" ```"
      ],
      "metadata": {
        "id": "PgeCRMGs2A6U"
      }
    },
    {
      "cell_type": "markdown",
      "source": [
        "### Erros que eu cometi neste exercício\n",
        "\n",
        "-> sem erros, porém não entendi como funciona o uso e notação da barra \\"
      ],
      "metadata": {
        "id": "dk1ne7sd2EB8"
      }
    },
    {
      "cell_type": "markdown",
      "source": [
        "## EXERCÍCIO 11 - Fazendo perguntas"
      ],
      "metadata": {
        "id": "mX9CSlFG25n-"
      }
    },
    {
      "cell_type": "code",
      "source": [
        "print(\"How old are you?\", end= ' ') #vai aparecer a fase na tela, não entendi a necessidade do 'end= ' ' '\n",
        "age = input() #vai dar o espaço para inserir a resposta\n",
        "print(\"How tall are you?\", end= ' ') #outra pergunta na tela\n",
        "height = input() #a reposta já é atribuída a \"height\"\n",
        "print(\"How much do you weight?\", end=' ') #intrigada com esse end...\n",
        "weight = input() #dá o espapo e já atribui o valor a \"weight\"\n",
        "\n",
        "print(f\"So, you're {age} old, {height} tall and {weight} heavy.\") #vai imprimir tudo de uma vez, o 'f' é pra reconhecer o que é atributo na string\n",
        "\n",
        "#conferindo erros de digitação... parece tudo certo."
      ],
      "metadata": {
        "colab": {
          "base_uri": "https://localhost:8080/"
        },
        "id": "vKvNdkJh8ocM",
        "outputId": "1dd1492c-ece1-43cc-e52d-c4e23a4e8c6e"
      },
      "execution_count": null,
      "outputs": [
        {
          "output_type": "stream",
          "name": "stdout",
          "text": [
            "How old are you? 34\n",
            "How tall are you? 162cm\n",
            "How much do you weight? 97kg\n",
            "So, you're 34 old, 162cm tall and 97kg heavy.\n"
          ]
        }
      ]
    },
    {
      "cell_type": "markdown",
      "source": [
        "### Novidades neste exercício\n",
        "\n",
        "Input\n",
        "``` input() ```\n",
        "\n",
        "\"f\" para reconhecer os atributos na string na hora de imprimir\n",
        "\n",
        "```print(f\"Xkcd {atributo}, abcd.\"```\n",
        "\n",
        "end= ' '\n",
        "* O input() abre a caixa para digitar a resposta logo após o print() com a pergunta. com o end= ' ', ele deixa um espaço entre a pergunta e o resgistro da resposta no rolar do código."
      ],
      "metadata": {
        "id": "EEZXzFZ62U9u"
      }
    },
    {
      "cell_type": "markdown",
      "source": [
        "### Erros que eu cometi neste exercício\n",
        "\n",
        "-> Sem errinhos <3\n",
        " Porém, dúvida: por que aqui a resposta ficou registrada ao lado da pergunta, precisando do end=' ', e quando faço no VSCode já fica na linha seguinte à exibição da pergunta? // O EXERCÍCIO 12 RESPONDEU"
      ],
      "metadata": {
        "id": "XgHAi6tv34Wc"
      }
    },
    {
      "cell_type": "markdown",
      "source": [
        "## EXERCÍCIO 12 - Perguntando as pessoas"
      ],
      "metadata": {
        "id": "Do17lFeY26KU"
      }
    },
    {
      "cell_type": "code",
      "source": [
        "age = input(\"How old are you? \") #mais um jeito de perguntar...? eu achava que precisava ser input(print())\n",
        "height = input(\"How tall are you? \") #mais um input de valor para o atributo 'height'\n",
        "weight = input(\"How much do you weigh? \") #outro input de valor para outro atributo\n",
        "\n",
        "print(f\"So, you're {age} old, {height} tall and {weight} heavy.\") #imprimir tudo puxando os atributos"
      ],
      "metadata": {
        "colab": {
          "base_uri": "https://localhost:8080/"
        },
        "id": "kAX2OAvZCQjf",
        "outputId": "56a1f31a-30b2-4f64-f550-96f5f40094d1"
      },
      "execution_count": null,
      "outputs": [
        {
          "output_type": "stream",
          "name": "stdout",
          "text": [
            "How old are you? 34\n",
            "How tall are you? 162cm\n",
            "How much do you weigh? 97kg\n",
            "So, you're 34 old, 162cm tall and 97kg heavy.\n"
          ]
        }
      ]
    },
    {
      "cell_type": "markdown",
      "source": [
        "### Novidades neste exercício\n",
        "\n",
        "Nova forma de apresentar pergunta e inserir o valor da resposta ao atributo.\n",
        "\n",
        "```atributo = input(\"String com a pergunta? \")```\n",
        "\n"
      ],
      "metadata": {
        "id": "A9GWyd3l2VMW"
      }
    },
    {
      "cell_type": "markdown",
      "source": [
        "### Erros que eu cometi neste exercício"
      ],
      "metadata": {
        "id": "sAUVTue_359U"
      }
    },
    {
      "cell_type": "markdown",
      "source": [
        "## EXERCÍCIO 13 - Instrução IF *dúvida*"
      ],
      "metadata": {
        "id": "ADcR11b126vs"
      }
    },
    {
      "cell_type": "code",
      "source": [
        "people = 20 #atribui valor à variável\n",
        "cats = 30 #atribui valor à variável\n",
        "dogs = 15 #atribui valor à variável\n",
        "\n",
        "if people < cats: #se atributo 1 'menor que' atributo 2, imprime a frase:\n",
        "  print(\"1 - Too many cats! The world is doomed!\") #acrescentei o número para identificar na reprodução do código\n",
        "\n",
        "if people > cats: #se atributo 1 'maior que' atributo 2, imprime a frase:\n",
        "  print(\"2 - Not many cats! The world is saved!\")\n",
        "\n",
        "if people < dogs: #se atributo 1 'menor que' atributo 2, imprime a frase:\n",
        "  print(\"3 - Too world is drooled on!\")\n",
        "\n",
        "if people > dogs: #se atributo 1 'maior que' atributo 2, imprime a frase:\n",
        "  print(\"4 - The world is dry!\")\n",
        "\n",
        "dogs += 5 #deveria somar 5 ao valor de 'dogs' a partir deste ponto\n",
        "\n",
        "if people >= dogs: #se atributo 1 'maior ou igual a' atributo 2, imprime a frase:\n",
        "  print(\"5 - People are greater than or equal to dogs.\")\n",
        "\n",
        "if people <= dogs: #se atributo 1 'menor ou igual a' atributo 2, imprime a frase:\n",
        "  print(\"6 - People are less than or equal to dogs.\")\n",
        "\n",
        "if people == dogs: #se atributo 1 igual a atributo 2, imprime a frase:\n",
        "  print(\"7 - People are dogs.\") #well, indeed...\n",
        "\n",
        "  #conferindo digitação... parece tudo certo."
      ],
      "metadata": {
        "colab": {
          "base_uri": "https://localhost:8080/"
        },
        "id": "Gt2ZliMzEU9U",
        "outputId": "dd72b552-a731-4f4f-964b-4d1b087472f7"
      },
      "execution_count": null,
      "outputs": [
        {
          "output_type": "stream",
          "name": "stdout",
          "text": [
            "1 - Too many cats! The world is doomed!\n",
            "4 - The world is dry!\n",
            "5 - People are greater than or equal to dogs.\n",
            "6 - People are less than or equal to dogs.\n",
            "7 - People are dogs.\n"
          ]
        }
      ]
    },
    {
      "cell_type": "markdown",
      "source": [
        "### Novidades neste exercício\n",
        "\n",
        "Contrução do If;\n",
        "\n",
        "Valores comparativos lógicos."
      ],
      "metadata": {
        "id": "KiaJ_GL82Vrs"
      }
    },
    {
      "cell_type": "markdown",
      "source": [
        "### Erros que eu cometi neste exercício\n",
        "\n",
        "DÚVIDA\n",
        "\n",
        "linha 17: dogs += 5\n",
        "-> Ao manter a linha escrita assim, o código imprimiu as três condicionais seguintes (respostas 5, 6 e 7). Não teve feedback de erro de digitação, mas se a linha simplesmente não tivesse tido efeito nenhum, teria imprimido apenas a resposta 6. Se 'pudesse ou não' somar o valor, talvez imprimisse as respostas 6 e 7. Quando escrevo \"dogs = + 5\", o cídigo atualiza o valor da variável a partir desse ponto e me entrega apenas a resposta 7 (people == dogs).\n",
        "Já vi outros professores usando +=, mas nunca funcionou pra mim."
      ],
      "metadata": {
        "id": "04HWYdjz360s"
      }
    },
    {
      "cell_type": "markdown",
      "source": [
        "## EXERCÍCIO 14 - Else e IF"
      ],
      "metadata": {
        "id": "OWyOK9Nm25DV"
      }
    },
    {
      "cell_type": "code",
      "source": [
        "people = 30 #atribui valor\n",
        "cars = 40 #atribui valor\n",
        "trucks = 15 #atribui valor\n",
        "\n",
        "if cars > people: #comparação lógica 1\n",
        "  print(\"We should take the cars.\") #imprime se a comparação for verdadeira\n",
        "elif cars < people: #comparação lógica 2\n",
        "  print (\"We should not take the cars.\") #imprime se a comparação for verdadeira\n",
        "else: #caso nenhuma das operações lógicas anteriores seja verdadeira\n",
        "  print(\"We can't decide\") #imprime se a comparação for verdadeira\n",
        "\n",
        "if trucks > cars: #comparação lógica 1\n",
        "  print(\"Thats' too many trucks.\") #imprime se a comparação for verdadeira\n",
        "elif trucks < cars: #comparação lógica 2\n",
        "  print(\"Maybe we could take the trucks.\") #imprime se a comparação for verdadeira\n",
        "else: #caso nenhuma das operações lógicas anteriores seja verdadeira\n",
        "  print(\"We still can't decide.\") #imprime se a comparação for verdadeira\n",
        "\n",
        "if people > trucks: #comparação lógica 1\n",
        "  print(\"Alright, let's just take the trucks.\") #imprime se a comparação for verdadeira\n",
        "else: #caso nenhuma das operações lógicas anteriores seja verdadeira\n",
        "  print(\"Fine, let's stay home then.\") #imprime se a comparação for verdadeira"
      ],
      "metadata": {
        "colab": {
          "base_uri": "https://localhost:8080/"
        },
        "id": "cuQiW61kVbiQ",
        "outputId": "7c2f3603-9995-4e26-f5f5-59a2621699ed"
      },
      "execution_count": null,
      "outputs": [
        {
          "output_type": "stream",
          "name": "stdout",
          "text": [
            "We should take the cars.\n",
            "Maybe we could take the trucks.\n",
            "Allright, let's just take the trucks.\n"
          ]
        }
      ]
    },
    {
      "cell_type": "markdown",
      "source": [
        "### Novidades neste exercício\n",
        "\n",
        "Condicional IF com complemento de possibilidade ELIF e descição ELSE caso nenhuma das possibilidades anteriores seja veradadeira."
      ],
      "metadata": {
        "id": "wzmeE79q2Vhu"
      }
    },
    {
      "cell_type": "markdown",
      "source": [
        "### Erros que eu cometi neste exercício\n",
        "\n",
        "Achava que os elif e else precisavam estar tabulados, mas aparentemente não precisa :)"
      ],
      "metadata": {
        "id": "yi3UOEqU3745"
      }
    },
    {
      "cell_type": "markdown",
      "source": [
        "## EXERCÍCIO 15 - Tomando Decisões"
      ],
      "metadata": {
        "id": "AXw9rw8a3Qi8"
      }
    },
    {
      "cell_type": "code",
      "source": [
        "print(\"\"\"You enter a dark room with two doors.\n",
        "Do you go through door #1 or door #2?\"\"\") #imprime na tela o contexto e opções\n",
        "\n",
        "door = input(\"> \") #insere a escolha\n",
        "\n",
        "if door == \"1\": #caso a resposta para 'door' tenha sido = 1\n",
        "  print(\"There's a giant bear here eating a cheesecake.\") #imprime a consequência da escolha\n",
        "  print(\"What do you do?\") #imprime contexto\n",
        "  print(\"1. Take the cake.\") #imprime opções\n",
        "  print(\"2. Scream at the bear.\") #imprime opções\n",
        "\n",
        "  bear = input(\"> \") #insere a escolha\n",
        "\n",
        "  if bear == \"1\": #caso a resposta para 'bear' tenha sido = 1\n",
        "    print(\"The bear eats your face off. Good job!\") #imprime a consequência da escolha\n",
        "  elif bear == \"2\": #caso a resposta para 'bear' tenha sido = 2\n",
        "    print(\"The bear eats your legs off. Good job!\") #imprime a consequência da escolha\n",
        "  else:#caso a resposta para 'bear' seja diferente de 1 ou 2\n",
        "    print(f\"Well, doing {bear} is probably better.\") #imprime a consequência da escolha\n",
        "    print(\"Bear runs away.\") #imprime a consequência da escolha\n",
        "\n",
        "elif door == \"2\": #caso a resposta para 'door' tenha sido = 2\n",
        "  print(\"You stare into the endless abyss at Ctchulhu's retina.\") #imprime a consequência da escolha\n",
        "  print(\"1. Blueberries\") #imprime opções\n",
        "  print(\"2. Yellow jacket clothespins.\") #imprime opções\n",
        "  print(\"3. Understanding revolvers yelling melodies.\") #imprime opções\n",
        "\n",
        "  insanity = input(\"> \") #insere a escolha\n",
        "\n",
        "  if insanity == \"1\" or insanity == \"2\": #caso a resposta para 'insanity' tenha sido 1 OU 2\n",
        "    print(\"Your body survives powered by a mind of jello.\") #imprime a consequência da escolha\n",
        "    print(\"Good job\") #imprime a consequência da escolha\n",
        "  else: #caso a resposta para 'insanity' tenha sido DIFERENTE de 1 ou 2\n",
        "    print(\"The insanity rots your eyes into a pool of muck.\") #imprime a consequência da escolha\n",
        "    print(\"Good job!\") #imprime a consequência da escolha\n",
        "\n",
        "else: #caso a resposta para 'door' tenha sido diferente de 1 ou 2\n",
        "  print(\"You stumble around and fall on a knife and die. Good job!\") #imprime a consequência da escolha"
      ],
      "metadata": {
        "colab": {
          "base_uri": "https://localhost:8080/"
        },
        "id": "crnw9OgyX89Q",
        "outputId": "1a02c9a0-e292-4fc9-bd17-58cb2b8dfa31"
      },
      "execution_count": null,
      "outputs": [
        {
          "output_type": "stream",
          "name": "stdout",
          "text": [
            "You enter a dark room with two doors.\n",
            "Do you go through door #1 or door #2?\n",
            "> 1\n",
            "There's a giant bear here eating a cheesecake.\n",
            "What do you do?\n",
            "1. Take the cake.\n",
            "2. Scream at the bear.\n",
            "> 4\n",
            "Well, doing 4 is probably better.\n",
            "Bear runs away.\n"
          ]
        }
      ]
    },
    {
      "cell_type": "markdown",
      "source": [
        "### Novidades neste exercício\n",
        "\n",
        "Apresentação de IF, ELIF e ELSE com a possibilidade de input para decidir caminhos do código.\n",
        "\n",
        "Uso do \"or\" dentro do if:\n",
        "```if insanity == \"1\" of insanity ==\"2\"```"
      ],
      "metadata": {
        "id": "JO52PwbC2VXV"
      }
    },
    {
      "cell_type": "markdown",
      "source": [
        "### Erros que eu cometi neste exercício\n",
        "\n",
        "Esqueci \":\" em alguns \"if\"."
      ],
      "metadata": {
        "id": "H__QpwmN38gV"
      }
    }
  ]
}